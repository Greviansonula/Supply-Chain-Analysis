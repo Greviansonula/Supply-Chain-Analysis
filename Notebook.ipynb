{
 "cells": [
  {
   "cell_type": "code",
   "execution_count": 3,
   "metadata": {},
   "outputs": [
    {
     "name": "stdout",
     "output_type": "stream",
     "text": [
      "--2023-06-17 05:04:05--  https://statso.io/wp-content/uploads/2023/04/supplychain.zip\n",
      "Resolving statso.io (statso.io)... 192.0.78.225, 192.0.78.171\n",
      "Connecting to statso.io (statso.io)|192.0.78.225|:443... connected.\n",
      "HTTP request sent, awaiting response... 200 OK\n",
      "Length: 9778 (9.5K) [application/zip]\n",
      "Saving to: ‘supplychain.zip’\n",
      "\n",
      "supplychain.zip     100%[===================>]   9.55K  --.-KB/s    in 0s      \n",
      "\n",
      "2023-06-17 05:04:05 (88.6 MB/s) - ‘supplychain.zip’ saved [9778/9778]\n",
      "\n",
      "Archive:  supplychain.zip\n",
      "replace supply_chain_data.csv? [y]es, [n]o, [A]ll, [N]one, [r]ename: ^C\n"
     ]
    }
   ],
   "source": [
    "!rm -rf supplychain.zip\n",
    "!wget https://statso.io/wp-content/uploads/2023/04/supplychain.zip\n",
    "!unzip supplychain.zip"
   ]
  },
  {
   "cell_type": "code",
   "execution_count": null,
   "metadata": {},
   "outputs": [],
   "source": []
  }
 ],
 "metadata": {
  "kernelspec": {
   "display_name": "Python 3",
   "language": "python",
   "name": "python3"
  },
  "language_info": {
   "codemirror_mode": {
    "name": "ipython",
    "version": 3
   },
   "file_extension": ".py",
   "mimetype": "text/x-python",
   "name": "python",
   "nbconvert_exporter": "python",
   "pygments_lexer": "ipython3",
   "version": "3.10.6"
  },
  "orig_nbformat": 4,
  "vscode": {
   "interpreter": {
    "hash": "31f2aee4e71d21fbe5cf8b01ff0e069b9275f58929596ceb00d14d90e3e16cd6"
   }
  }
 },
 "nbformat": 4,
 "nbformat_minor": 2
}
